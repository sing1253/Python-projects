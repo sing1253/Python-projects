{
  "nbformat": 4,
  "nbformat_minor": 0,
  "metadata": {
    "colab": {
      "name": "Singhania_Samarth_Machine_learning_project.ipynb",
      "provenance": [],
      "collapsed_sections": []
    },
    "kernelspec": {
      "name": "python3",
      "display_name": "Python 3"
    }
  },
  "cells": [
    {
      "cell_type": "code",
      "metadata": {
        "id": "guPdJsfVzYp-"
      },
      "source": [
        "import numpy as np\n",
        "import seaborn\n",
        "import pandas as pd\n",
        "import matplotlib.pyplot as plt\n",
        "%matplotlib inline\n",
        "from google.colab import drive\n",
        "drive.mount('/content/drive')\n",
        "\n",
        "path = '/content/drive/My Drive/Black_Friday.csv'\n",
        "black_df = pd.read_csv(path)\n",
        "\n",
        "black_df.info()"
      ],
      "execution_count": null,
      "outputs": []
    },
    {
      "cell_type": "code",
      "metadata": {
        "id": "bBxvUeCrXZzM"
      },
      "source": [
        "#defining clean data function\n",
        "def clean_data(df):\n",
        "  #removing \"+\" sign and using integers to represent stay in current city years\n",
        "  df['Stay_In_Current_City_Years'] = df.Stay_In_Current_City_Years.str.replace('+','').astype(int)\n",
        "\n",
        "  #removing category age groups to convert it to integers\n",
        "  #decided to use lowerbound for each age group\n",
        "  age = {'0-17':0, '18-25': 18, '26-35':26, '36-45':36, '46-50':46, '51-55':51, '55+': 55} \n",
        "  df.Age = [age[item] for item in df.Age] \n",
        "\n",
        "  #assuming all missing values are 0 and making all necessary changes for product category 2 and 3\n",
        "  df.fillna(0, inplace= True)\n",
        "  \n",
        "  #converting all columns to their appropriate data type\n",
        "  df['User_ID'] = df['User_ID'].astype(str)\n",
        "  df['Occupation'] = df['Occupation'].astype(str)\n",
        "  df['Marital_Status'] = df['Marital_Status'].astype(str)\n",
        "  df['Product_Category_2'] = df['Product_Category_2'].astype(int)\n",
        "  df['Product_Category_3'] = df['Product_Category_3'].astype(int)\n",
        "\n",
        "  return df"
      ],
      "execution_count": null,
      "outputs": []
    },
    {
      "cell_type": "code",
      "metadata": {
        "id": "cxjojYwuo3jd"
      },
      "source": [
        "#using clean data function to clean black friday file\n",
        "clean_data(black_df)"
      ],
      "execution_count": null,
      "outputs": []
    },
    {
      "cell_type": "code",
      "metadata": {
        "id": "Ovbf3fEmwiYs"
      },
      "source": [
        "#generating bar charts to compare purchase amount by gender and number of customer by gender\n",
        "gender_purchase = black_df.groupby('Gender')[['Purchase']].sum()\n",
        "gender_count = black_df.groupby('Gender')[['User_ID']].count()\n",
        "gender_purchase.plot.bar()\n",
        "gender_count.plot.bar()"
      ],
      "execution_count": null,
      "outputs": []
    },
    {
      "cell_type": "markdown",
      "metadata": {
        "id": "xzUbv0uBwrOM"
      },
      "source": [
        "With respect to gender, the dataset is not balanced. Both purchase and count amount are not equal with a difference almost triple between male and female. There are more males and males have purchased more. Both charts looks similar so the difference in purchase is perhaps because there are more male customers."
      ]
    },
    {
      "cell_type": "code",
      "metadata": {
        "id": "st18rd46Z31t"
      },
      "source": [
        "#generate bar chart to compare purchase amount by city category\n",
        "seaborn.barplot(x= black_df['City_Category'], y= black_df['Purchase'], data= black_df, estimator= sum)\n",
        "\n",
        "plt.ticklabel_format(style='plain', axis='y',useOffset=False)"
      ],
      "execution_count": null,
      "outputs": []
    },
    {
      "cell_type": "code",
      "metadata": {
        "id": "Hfs3u9xmbMvO"
      },
      "source": [
        "#generate bar chart comparing purchase amount by gender and age\n",
        "seaborn.barplot(x= black_df['Age'], y= black_df['Purchase'], data= black_df, hue= black_df['Gender'], estimator= sum, palette='coolwarm')\n",
        "plt.ticklabel_format(style='plain', axis='y',useOffset=False)"
      ],
      "execution_count": null,
      "outputs": []
    },
    {
      "cell_type": "markdown",
      "metadata": {
        "id": "7YyFYXBMx4qT"
      },
      "source": [
        "Based on the bar chart above, it seems that male spend 3 times as much as females similar to previous charts. If we want to increase spend on black friday, we should focus our efforts on marketing to both genders of age groups 26-35 as this group spends the most money.  \n",
        "\n",
        "They should push more products that are usually purchased by individuals in their late 20s early 30s for both make and female."
      ]
    },
    {
      "cell_type": "code",
      "metadata": {
        "id": "QyO1UeFGY7i2"
      },
      "source": [
        "#generating box and whisker to compare distribution of purchase by gender and age\n",
        "seaborn.boxplot(x= black_df['Age'], y= black_df['Purchase'], data= black_df, hue= black_df['Gender'], palette='coolwarm')"
      ],
      "execution_count": null,
      "outputs": []
    },
    {
      "cell_type": "code",
      "metadata": {
        "id": "lMtFhHXSY-nr"
      },
      "source": [
        "#generating box and whisker to compare distribution of purchase by occupations\n",
        "seaborn.boxplot(x=black_df['Occupation'], y= black_df['Purchase'], data= black_df, palette='coolwarm')"
      ],
      "execution_count": null,
      "outputs": []
    },
    {
      "cell_type": "code",
      "metadata": {
        "id": "mKwJ6T8IPqJA"
      },
      "source": [
        "#generating heatmap to show correlation matrix between each of two features of age, stay in current city, product category 1, product category 2, product category 3, and purchase\n",
        "cor_df = black_df[['Age', 'Stay_In_Current_City_Years', 'Product_Category_1', 'Product_Category_2', 'Product_Category_3', 'Purchase']]\n",
        "\n",
        "plt.figure(figsize=(6,6))\n",
        "seaborn.heatmap(cor_df.corr(), annot=True, cmap='coolwarm')"
      ],
      "execution_count": null,
      "outputs": []
    },
    {
      "cell_type": "markdown",
      "metadata": {
        "id": "XEoE5bT_a_Of"
      },
      "source": [
        "Based on the correlation heat map, we can conclude that no factor had a strong correlation with purchase whether positive or negative. Product Category 3 had the strongest positive correlation with purchase of all variables (correlation of 0.28)"
      ]
    },
    {
      "cell_type": "code",
      "metadata": {
        "id": "mR6gb1CXSt5n"
      },
      "source": [
        "#generating scatter plots to show correlation matrix between each of two features of age, stay in current city, product category 1, product category 2, product category 3, and purchase\n",
        "cor_df.to_excel('/content/drive/My Drive/correlation.xlsx')\n",
        "seaborn.pairplot(cor_df, height=2)"
      ],
      "execution_count": null,
      "outputs": []
    },
    {
      "cell_type": "code",
      "metadata": {
        "id": "fiDwndAta3oN"
      },
      "source": [
        "#import necessary packages and assign black friday to new df variable\n",
        "from sklearn.model_selection import train_test_split\n",
        "from sklearn.linear_model import LinearRegression\n",
        "from sklearn import metrics\n",
        "\n",
        "path = '/content/drive/My Drive/Black_Friday.csv'\n",
        "my_df = pd.read_csv(path)"
      ],
      "execution_count": null,
      "outputs": []
    },
    {
      "cell_type": "markdown",
      "metadata": {
        "id": "xtkYLI5r6hqv"
      },
      "source": [
        "**Feature engineering**"
      ]
    },
    {
      "cell_type": "code",
      "metadata": {
        "id": "FwS6B39YcENK"
      },
      "source": [
        "#use clean data function on database and drop product category 3 as too many missing values in column\n",
        "clean_data(my_df)\n",
        "my_df = my_df.drop(['Product_Category_3'], axis=1)"
      ],
      "execution_count": null,
      "outputs": []
    },
    {
      "cell_type": "code",
      "metadata": {
        "id": "RyUPPlhqX_fb"
      },
      "source": [
        "#remove user ID and product ID from database\n",
        "ml_df = my_df.drop(['User_ID', 'Product_ID'], axis= 1)\n",
        "\n",
        "#create dummy variables for gender, age, city category and stay in current city years\n",
        "Gender = pd.get_dummies(ml_df['Gender'])\n",
        "Age = pd.get_dummies(ml_df['Age'])\n",
        "City_Category = pd.get_dummies(ml_df['City_Category'])\n",
        "Stay_In_Current_City_Years = pd.get_dummies(ml_df['Stay_In_Current_City_Years'])\n",
        "\n",
        "#add dummy variables in the database\n",
        "ml_df_final = pd.concat([ml_df, Gender, Age, City_Category, Stay_In_Current_City_Years], axis=1)"
      ],
      "execution_count": null,
      "outputs": []
    },
    {
      "cell_type": "markdown",
      "metadata": {
        "id": "tX9-nFMS6pyR"
      },
      "source": [
        "**Creating the Linear Regression Model**"
      ]
    },
    {
      "cell_type": "code",
      "metadata": {
        "id": "6N5EcU-maSHX"
      },
      "source": [
        "#assign X and y variables\n",
        "#drop gender, age, city category, stay in current city years and purchase for X\n",
        "X = ml_df_final.drop(['Gender', 'Age','City_Category', 'Stay_In_Current_City_Years', 'Purchase'], axis=1)\n",
        "y = ml_df_final['Purchase']\n",
        "\n",
        "#split test and train with test size of 20%\n",
        "X_train, X_test, y_train, y_test = train_test_split(X, y, test_size=0.2)\n",
        "#create linear regression model\n",
        "model= LinearRegression()\n",
        "model.fit(X_train, y_train)"
      ],
      "execution_count": null,
      "outputs": []
    },
    {
      "cell_type": "code",
      "metadata": {
        "id": "zTnJQGE-dDTW"
      },
      "source": [
        "#create predictions with X test\n",
        "model_predictions = model.predict(X_test)\n",
        "print(\"Predicted purchases (in dollars) for new costumers:\", model_predictions)\n",
        "\n",
        "#print Mean Absolute Error and Mean Sqaured Error\n",
        "print('MAE:', metrics.mean_absolute_error(y_test, model_predictions))\n",
        "print('MSE:', metrics.mean_squared_error(y_test, model_predictions))"
      ],
      "execution_count": null,
      "outputs": []
    },
    {
      "cell_type": "markdown",
      "metadata": {
        "id": "tq4MXU1j6CKW"
      },
      "source": [
        "**Final Model Evaluation on Black_Friday_Final_project dataset**"
      ]
    },
    {
      "cell_type": "code",
      "metadata": {
        "id": "H5jbWtOLw6JH"
      },
      "source": [
        "# loading the black firday test dataset \n",
        "path = '/content/drive/My Drive/Black_Friday_Final_Test.csv'\n",
        "black_df_final = pd.read_csv(path)"
      ],
      "execution_count": null,
      "outputs": []
    },
    {
      "cell_type": "code",
      "metadata": {
        "id": "dL1CgB4OxdKw"
      },
      "source": [
        "#feature engineering on dataset (clean data function and dropping product category 3)\n",
        "black_df_final = clean_data(black_df_final)\n",
        "black_df_final = black_df_final.drop(['Product_Category_3'], axis=1)"
      ],
      "execution_count": null,
      "outputs": []
    },
    {
      "cell_type": "code",
      "metadata": {
        "id": "GVIJlaUnx2As"
      },
      "source": [
        "#drop user ID and product ID from dataframe\n",
        "predicted_df = black_df_final.drop(['User_ID', 'Product_ID'], axis= 1)\n",
        "\n",
        "#create dummy variables for gender, age, city category and stay in current city years\n",
        "Gender = pd.get_dummies(predicted_df['Gender'])\n",
        "Age = pd.get_dummies(predicted_df['Age'])\n",
        "City_Category = pd.get_dummies(predicted_df['City_Category'])\n",
        "Stay_In_Current_City_Years = pd.get_dummies(predicted_df['Stay_In_Current_City_Years'])\n",
        "\n",
        "#merge dummy variable into dataframe\n",
        "predicted_df_final = pd.concat([predicted_df, Gender, Age, City_Category, Stay_In_Current_City_Years], axis=1)"
      ],
      "execution_count": null,
      "outputs": []
    },
    {
      "cell_type": "code",
      "metadata": {
        "id": "8Rq7v129ySMq"
      },
      "source": [
        "#making predictions on purchase value for Black Friday Test Final using previously trained model\n",
        "#Dropping gender, age, city category, stay in current city years, and purchase for X variable\n",
        "X_test_final = predicted_df_final.drop(['Gender', 'Age','City_Category', 'Stay_In_Current_City_Years', 'Purchase'], axis=1)\n",
        "y_test_final = predicted_df_final['Purchase']\n",
        "model_predictions_final = model.predict(X_test_final)\n",
        "print(\"Predicted purchases (in dollars) for new costumers:\", model_predictions_final)\n",
        "\n",
        "#print Mean Absolute Error and Mean Sqaured Error\n",
        "print('MAE:', metrics.mean_absolute_error(y_test_final, model_predictions_final))\n",
        "print('MSE:', metrics.mean_squared_error(y_test_final, model_predictions_final))"
      ],
      "execution_count": null,
      "outputs": []
    }
  ]
}